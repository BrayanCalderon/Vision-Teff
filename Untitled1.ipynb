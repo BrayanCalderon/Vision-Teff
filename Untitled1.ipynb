{
 "cells": [
  {
   "cell_type": "code",
   "execution_count": 3,
   "id": "d9ea48ec-4f28-46c9-926b-e4e9fb4eb390",
   "metadata": {},
   "outputs": [],
   "source": [
    "X = np.array([[1,1,0],[0,1,1],[0,1,0],[0,0,1],[0,0,0],[0,1,0],[1,1,1],[0,1,1]])\n",
    "y = np.array([0,0,0,1,0,1,0,1])"
   ]
  },
  {
   "cell_type": "code",
   "execution_count": 2,
   "id": "f42ab857-a695-47c1-9aff-84f8e9aec08e",
   "metadata": {},
   "outputs": [],
   "source": [
    "import numpy as np"
   ]
  },
  {
   "cell_type": "code",
   "execution_count": 4,
   "id": "07da64c5-552a-4a81-bd2c-4f629ed16ee3",
   "metadata": {},
   "outputs": [],
   "source": [
    "x = X[0]\n",
    "L = np.array([[0.15,0.14],\n",
    "              [0.14,0.15]])\n",
    "Rejection = 0.75"
   ]
  },
  {
   "cell_type": "code",
   "execution_count": 5,
   "id": "4fe6504c-7c7d-4534-b1d5-adcb7ea10146",
   "metadata": {},
   "outputs": [],
   "source": [
    "P_C1 = np.sum(y)/len(y)\n",
    "P_C0 = 1 - P_C1"
   ]
  },
  {
   "cell_type": "code",
   "execution_count": 6,
   "id": "c5735e6e-9165-456f-8bf9-af284b7898a2",
   "metadata": {},
   "outputs": [],
   "source": [
    "def naiveProb(x,X,y,clase):\n",
    "  auxX0 = 0\n",
    "  auxX1 = 0\n",
    "  auxX2 = 0\n",
    "\n",
    "  if clase == 1:\n",
    "    den = np.sum(y)\n",
    "  else:\n",
    "    den = len(y) - np.sum(y)\n",
    "  \n",
    "  for i in range(len(y)):\n",
    "\n",
    "    x0,x1,x2 = X[i]\n",
    "\n",
    "    if y[i] == clase:\n",
    "      if x0 == x[0]:\n",
    "        auxX0 += 1 \n",
    "      if x1 == x[1]:\n",
    "        auxX1 += 1 \n",
    "      if x2 == x[2]:\n",
    "        auxX2 += 1   \n",
    "    \n",
    "  return auxX0/den * auxX1/den * auxX2/den"
   ]
  },
  {
   "cell_type": "code",
   "execution_count": 7,
   "id": "77c6f2a3-c1a2-45bc-8b3d-0902341bed8f",
   "metadata": {},
   "outputs": [],
   "source": [
    "P_X_C0 = naiveProb(x,X,y,0)\n",
    "P_X_C1 = naiveProb(x,X,y,1)\n",
    "\n",
    "P_X = P_C0 * P_X_C0 + P_C1 * P_X_C1\n",
    "\n",
    "P_C1_X = (P_C1 * P_X_C1) / P_X\n",
    "P_C0_X = (P_C0 * P_X_C0) / P_X\n",
    "\n",
    "R_A0_X = L[0][0] * P_C0_X + L[0][1] * P_C1_X\n",
    "R_A1_X = L[1][0] * P_C0_X + L[1][1] * P_C1_X\n",
    "R_R_X = Rejection"
   ]
  },
  {
   "cell_type": "code",
   "execution_count": 8,
   "id": "d9cd3de6-4837-4182-b267-06174a7cd2bd",
   "metadata": {},
   "outputs": [
    {
     "name": "stdout",
     "output_type": "stream",
     "text": [
      "0.15\n",
      "0.14\n",
      "0.75\n"
     ]
    }
   ],
   "source": [
    "print(R_A0_X)\n",
    "print(R_A1_X)\n",
    "print(R_R_X)"
   ]
  },
  {
   "cell_type": "code",
   "execution_count": 9,
   "id": "951da7fa-8582-4073-b962-0b99b3cf0abd",
   "metadata": {},
   "outputs": [],
   "source": [
    "def clasificacion(R_A0_X,R_A1_X,R_R_X):\n",
    "  res = 0\n",
    "  risk = min(R_A0_X,R_A1_X,R_R_X)\n",
    "  if risk == R_A0_X:\n",
    "    return 0\n",
    "  if risk == R_A1_X:\n",
    "    return 1\n",
    "  if risk == R_R_X:\n",
    "    return 2"
   ]
  },
  {
   "cell_type": "code",
   "execution_count": 10,
   "id": "56b2c810-7e52-4842-bad8-b8a00524695c",
   "metadata": {},
   "outputs": [
    {
     "data": {
      "text/plain": [
       "1"
      ]
     },
     "execution_count": 10,
     "metadata": {},
     "output_type": "execute_result"
    }
   ],
   "source": [
    "clasificacion(R_A0_X,R_A1_X,R_R_X)"
   ]
  },
  {
   "cell_type": "code",
   "execution_count": 11,
   "id": "0f658185-60a8-479c-8311-432374a94bea",
   "metadata": {},
   "outputs": [],
   "source": [
    "x = X[1]\n",
    "\n",
    "P_X_C0 = naiveProb(x,X,y,0)\n",
    "P_X_C1 = naiveProb(x,X,y,1)\n",
    "\n",
    "P_X = P_C0 * P_X_C0 + P_C1 * P_X_C1\n",
    "\n",
    "P_C1_X = (P_C1 * P_X_C1) / P_X\n",
    "P_C0_X = (P_C0 * P_X_C0) / P_X\n",
    "\n",
    "R_A0_X = L[0][0] * P_C0_X + L[0][1] * P_C1_X\n",
    "R_A1_X = L[1][0] * P_C0_X + L[1][1] * P_C1_X\n",
    "R_R_X = Rejection"
   ]
  },
  {
   "cell_type": "code",
   "execution_count": 12,
   "id": "70006dac-31cd-4f72-bf92-805c606f392b",
   "metadata": {},
   "outputs": [
    {
     "name": "stdout",
     "output_type": "stream",
     "text": [
      "0.14418604651162792\n",
      "0.14581395348837212\n",
      "0.75\n"
     ]
    }
   ],
   "source": [
    "print(R_A0_X)\n",
    "print(R_A1_X)\n",
    "print(R_R_X)"
   ]
  },
  {
   "cell_type": "code",
   "execution_count": 13,
   "id": "531c2d36-36a3-4e3e-9192-8469145f4e57",
   "metadata": {},
   "outputs": [
    {
     "name": "stdout",
     "output_type": "stream",
     "text": [
      "-0.6041860465116279\n"
     ]
    }
   ],
   "source": [
    "print(R_A1_X - R_R_X)"
   ]
  },
  {
   "cell_type": "code",
   "execution_count": null,
   "id": "c8120f67-5368-4f4c-bda2-702e1e194d98",
   "metadata": {},
   "outputs": [],
   "source": []
  }
 ],
 "metadata": {
  "kernelspec": {
   "display_name": "Python 3 (ipykernel)",
   "language": "python",
   "name": "python3"
  },
  "language_info": {
   "codemirror_mode": {
    "name": "ipython",
    "version": 3
   },
   "file_extension": ".py",
   "mimetype": "text/x-python",
   "name": "python",
   "nbconvert_exporter": "python",
   "pygments_lexer": "ipython3",
   "version": "3.9.7"
  }
 },
 "nbformat": 4,
 "nbformat_minor": 5
}
